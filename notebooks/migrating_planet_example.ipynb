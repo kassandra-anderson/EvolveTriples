{
 "cells": [
  {
   "cell_type": "code",
   "execution_count": 1,
   "metadata": {},
   "outputs": [],
   "source": [
    "import numpy as np\n",
    "import pandas as pd\n",
    "import matplotlib.pyplot as plt\n",
    "import sys,os\n",
    "sys.path.insert(1, '../src/')\n",
    "import integrate_odes as io\n",
    "from astropy import constants"
   ]
  },
  {
   "cell_type": "markdown",
   "metadata": {},
   "source": [
    "This notebook serves as a tutorial for setting up and running a single simulation. The physical system consists of three bodies, with masses `m1`, `m2`, and `m3`. We adopt Jacobi coordinates to describe this three-body system, so that the orbit of `m1` and `m2` is referenced as the inner orbit, and the orbit of `m3` relative to the center of mass of `m1` and `m2` is referenced as the outer orbit. The code calculates the orbital and spin evolution of the triple system, accounting for the following physical effects:\n",
    "\n",
    "-Gravitational torques between the inner and outer orbits, to octupole-order in the semi-major axis ratio (`a1`/`a2`).\n",
    "\n",
    "-Apsidal precession of the inner orbit (`m1` and `m2`), due to general relativity, tides, and oblateness.\n",
    "\n",
    "-Spin-orbit coupling of the inner orbit.\n",
    "\n",
    "-Tidal dissipation in `m1` and `m2`.\n",
    "\n",
    "-Spin-down of `m1` and `m2` due to magnetized winds (magnetic braking). \n",
    "\n",
    "Most of these effects are included by default, but can be toggled on and off by the user as desired. See the definition of the function `integrate_triple` in `src/integrate_odes.py` to determine which effects are included by default.\n",
    "\n",
    "Here we demonstrate an application of the code, which is to model planet migration and hot Jupiter formation in stellar binary systems, as explored in [Anderson, Lai, & Storch 2016](https://ui.adsabs.harvard.edu/abs/2016MNRAS.456.3671A/abstract). \n",
    "\n",
    "Let's set up a triple system consisting of a Jovian-type planet in a wide, equal-mass binary star system. We'll place the planet (mass `m2`) on a nearly circular orbit around one of the stars (mass `m1`), with a semi-major axis of 1 AU. The semi-major axis of the binary stars orbit will be 100 AU. The distant star (mass `m3`) will introduce perturbations on the planet's orbit around its host star."
   ]
  },
  {
   "cell_type": "code",
   "execution_count": 2,
   "metadata": {
    "tags": []
   },
   "outputs": [],
   "source": [
    "# Masses and radii in units of solar masses and AU\n",
    "m1, R1 = 1.0, constants.R_sun.to_value(\"au\")\n",
    "m2, R2 = 5*constants.M_jup.to_value(\"M_sun\"), constants.R_jup.to_value(\"au\")\n",
    "m3 = 1.0\n",
    "\n",
    "# Semi-major axes of the inner and outer orbits in AU\n",
    "a1 = 1.\n",
    "a2 = 100.0\n",
    "\n",
    "# Initial eccentricities of the inner and outer orbits\n",
    "e1 = 0.01\n",
    "e2 = 0.01"
   ]
  },
  {
   "cell_type": "markdown",
   "metadata": {},
   "source": [
    "We also need to specify the three angles for each orbit: argument of pericenter (`peri1`, `peri2`), longitude of ascending node (`node1`, `node2`), and inclination (`I1`, `I2`). Let's specifiy the mutual inclination between the inner and outer orbits (`Imut`) to be 83 degrees (this large inclination will cause dynamical perturbations that cause the orbit of the planet to shrink over long timescales). We can then use the `set_inclination` function from `integrate_odes.py` to calculate the individual inclinations to feed to the ODE solver, assuming the total angular momentum vector of the triple system is along the z-axis."
   ]
  },
  {
   "cell_type": "code",
   "execution_count": 3,
   "metadata": {
    "tags": []
   },
   "outputs": [],
   "source": [
    "# Initial angles in radians\n",
    "Imut = 83.*np.pi/180.\n",
    "I1, I2 = io.set_inclinations(m1, m2, m3, a1, e1, a2, e2, Imut)\n",
    "peri1, node1 = 0.,0.\n",
    "peri2 = 0.\n",
    "node2 = node1 - np.pi"
   ]
  },
  {
   "cell_type": "markdown",
   "metadata": {},
   "source": [
    "We also need to specify the rotation periods of `m1` and `m2`, along with constants describing the internal structure of each body, tidal dissipation parameters, and magnetic braking parameters. Precise definitions of these variables can be found in Anderson, Lai, & Storch 2016."
   ]
  },
  {
   "cell_type": "code",
   "execution_count": 4,
   "metadata": {},
   "outputs": [],
   "source": [
    "# Spin periods of the primary and secondary of the inner binary in years\n",
    "Pstar1 = 10.0 / 365.25\n",
    "Pstar2 = 10.0 / (24 * 365.25)\n",
    "\n",
    "# Internal structure constants\n",
    "k21, k22 = 1.5 * 0.05, 0.37 / 2\n",
    "ks1, ks2 = 0.1, 0.25\n",
    "\n",
    "# Tidal lag time (years)\n",
    "tlag1 = 0.0\n",
    "tlag2 = 1.0 / (3.15e7)\n",
    "\n",
    "# Magnetic braking coefficients\n",
    "alpha1 = 1.5e-14\n",
    "alpha2 = 0.0\n",
    "\n",
    "# Simulation number (not important for running just a single simulation, so we'll set it to 0 here\n",
    "simnum = 0"
   ]
  },
  {
   "cell_type": "markdown",
   "metadata": {},
   "source": [
    "Now that our parameters and initial conditions have been defined, we store them in a dictionary called `parameters`, and call the `set_triple_properties` function to update this dictionary with additional calculated quanities that will be needed by the ODE solver."
   ]
  },
  {
   "cell_type": "code",
   "execution_count": 11,
   "metadata": {
    "tags": []
   },
   "outputs": [],
   "source": [
    "# Create a dictionary to store the initial conditions and triple properties\n",
    "parameters = {\n",
    "    \"simnum\": simnum,\n",
    "    \"m1\": m1,\n",
    "    \"m2\": m2,\n",
    "    \"m3\": m3,\n",
    "    \"R1\": R1,\n",
    "    \"R2\": R2,\n",
    "    \"a1\": a1,\n",
    "    \"a2\": a2,\n",
    "    \"e1\": e1,\n",
    "    \"e2\": e2,\n",
    "    \"k21\": k21,\n",
    "    \"k22\": k22,\n",
    "    \"ks1\": ks1,\n",
    "    \"ks2\": ks2,\n",
    "    \"tlag1\": tlag1,\n",
    "    \"tlag2\": tlag2,\n",
    "    \"alpha1\": alpha1,\n",
    "    \"alpha2\": alpha2,\n",
    "    \"Pstar1\": Pstar1,\n",
    "    \"Pstar2\": Pstar2,\n",
    "    \"I1\": I1,\n",
    "    \"node1\": node1,\n",
    "    \"peri1\": peri1,\n",
    "    \"I2\": I2,\n",
    "    \"node2\": node2,\n",
    "    \"peri2\": peri2,\n",
    "    \"Imom1\": ks1 * m1 * R1 * R1,\n",
    "    \"Imom2\": ks2 * m2 * R2 * R2,\n",
    "}\n",
    "    \n",
    "# Update the parameter dictionary with additional calculated quantities\n",
    "parameters = io.set_triple_properties(parameters)"
   ]
  },
  {
   "cell_type": "markdown",
   "metadata": {},
   "source": [
    "We also need to specify stopping conditions for the ODE solver. We want to integrate the system of ODEs until some amount of time (`tend`) has elapsed, or one of various possible events has occurred. The parameters `min_a` and `min_e` tell the ODE solver to keep integrating the ODEs up to time `tend`, unless the semi-major axis and eccentricity of the planet (the inner orbit) both become smaller than these values, indicating that a hot Jupiter has formed. The parameter `min_peri` causes the ODE solver to stop the integration if the eccentricity of the planet gets so high that it will be destroyed by tidal forces. "
   ]
  },
  {
   "cell_type": "code",
   "execution_count": 6,
   "metadata": {},
   "outputs": [],
   "source": [
    "# Integration timespan (years).\n",
    "# Can set tend = x * parameters[\"tk\"] to integrate for x secular timescales\n",
    "tend = 1e7\n",
    "\n",
    "# Stopping conditions\n",
    "min_peri = parameters[\"Rtide\"]\n",
    "min_a, min_e = 0.1, 0.5\n",
    "\n",
    "# Specify density of the ODE solution output\n",
    "Npoints = 10000\n",
    "\n",
    "# Define an array of times at which to record the ODE solution\n",
    "t = np.linspace(0, tend, Npoints)"
   ]
  },
  {
   "cell_type": "markdown",
   "metadata": {},
   "source": [
    "Now it's time to integrate the system of ODEs, using the `integrate_triple` function. We set the flag `evolve_spin2_axis` to False, so that the spin axis of the planet will be aligned with the orbit, as broadly expected from planet formation theory. We set the flag `mbraking1` to True to model the spin-down of the planet-hosting star due to magnetic braking (which has an important implications for the spin-orbit dynamics and obliquity). Finally, we set the flag `diss_tide2` to True to model tidal dissipation in the planet. This will cause the orbit of the planet to shrink over long timescales, so that the planet gradually moves closer to its star. We could have also set the flag `diss_tide1` to True to model tidal dissipation in the host star, but the stellar tides are much weaker compared to the planetary tides, so we neglect them in this application.\n",
    "\n",
    "After the integrator finishes, the code prints the outcome of the simulation, and returns the times at which the ODE solution was evaluated (`t`), the ODE solution as an array (`sol`), and the simulation outcome as an integer (`flag`) as well as a string (`sflag`). The code also returns a quality flag (`qflag`), indicating whether the numerical integration was successful. These flags are useful when conducting many simulations and saving the outcomes of each simulation in a file. The outcome `NM` (`0`) here means that the planet did not undergo any significant migration (changes in its semi-major axis).\n",
    "\n",
    "After the ODEs have been numerically integrated, we pass the ODE solution to the `process_output` function to store everything in a dataframe and calculate various quantities of interest."
   ]
  },
  {
   "cell_type": "code",
   "execution_count": 7,
   "metadata": {
    "tags": []
   },
   "outputs": [
    {
     "name": "stdout",
     "output_type": "stream",
     "text": [
      "Setting up simulation # 0\n",
      "GR apsidal precession:  True\n",
      "Tidal apsidal precession due to primary:  True\n",
      "Tidal apsidal precession due to secondary:  True\n",
      "Spin apsidal precession due to primary:  True\n",
      "Spin apsidal precession due to secondary:  True\n",
      "Spin nodal precession due to primary:  True\n",
      "Spin nodal precession due to secondary:  True\n",
      "Evolve spin axis of secondary:  False\n",
      "Tidal dissipation in primary:  False\n",
      "Tidal dissipation in secondary:  True\n",
      "Magnetic braking in primary:  True\n",
      "Magnetic braking in secondary:  False\n",
      "Octupole:  True\n",
      "Minimum pericenter:  0.007663600582638584\n",
      "Minimum a and e:  0.1 0.5\n",
      "Exited the first integration loop. t/tmax, a, e, peri, eps_gr =  1.0 1.0 0.49 0.52 0.0\n",
      "Finished the integration. Quality flag:  True\n",
      "Outcome:  NM 0\n"
     ]
    }
   ],
   "source": [
    "# Integrate the ODEs\n",
    "t, sol, flag, sflag, qflag = io.integrate_triple(\n",
    "    parameters,\n",
    "    t,\n",
    "    evolve_spin2_axis=False,\n",
    "    diss_tide2=True,\n",
    "    mbraking1=True,\n",
    "    min_peri=min_peri,\n",
    "    min_a=min_a,\n",
    "    min_e=min_e,\n",
    ")\n",
    "\n",
    "# Process the output of the ODEs\n",
    "df = io.process_output(t, sol, parameters, evolve_spin2_axis=False)"
   ]
  },
  {
   "cell_type": "markdown",
   "metadata": {},
   "source": [
    "\n",
    "\n",
    "Now we can plot the results, first setting some plot aesthetics:"
   ]
  },
  {
   "cell_type": "code",
   "execution_count": null,
   "metadata": {},
   "outputs": [],
   "source": [
    "from matplotlib import rc, rcParams\n",
    "plt.rcParams['mathtext.fontset'] = 'cm'\n",
    "plt.rcParams['mathtext.rm'] = 'serif'\n",
    "\n",
    "plt.rcParams[\"ytick.right\"] = True\n",
    "plt.rcParams[\"xtick.top\"] = True\n",
    "plt.rcParams[\"xtick.direction\"] = \"in\"\n",
    "plt.rcParams[\"ytick.direction\"] = \"in\""
   ]
  },
  {
   "cell_type": "code",
   "execution_count": 8,
   "metadata": {},
   "outputs": [
    {
     "data": {
      "image/png": "[encoded data removed]",
      "text/plain": [
       "<Figure size 360x504 with 3 Axes>"
      ]
     },
     "metadata": {
      "needs_background": "light"
     },
     "output_type": "display_data"
    }
   ],
   "source": [
    "rad2deg = 180./np.pi\n",
    "scale = 1e6\n",
    "plt.figure(1,figsize=(5,7))\n",
    "plt.subplot(3,1,1)\n",
    "plt.plot(df.t/scale,df.e1)\n",
    "plt.ylabel(r\"$e_1$\",fontsize=18)\n",
    "\n",
    "plt.subplot(3,1,2)\n",
    "plt.plot(df.t/scale,df.Imut*rad2deg)\n",
    "plt.ylabel(r\"$I_{\\mathrm{mut}}$ $(\\mathrm{deg})$\",fontsize=18)\n",
    "\n",
    "plt.subplot(3,1,3)\n",
    "plt.plot(df.t/scale,df.a1)\n",
    "plt.xlabel(r\"$\\mathrm{Time}$ $(\\mathrm{Myr})$\",fontsize=18)\n",
    "plt.ylabel(r\"$a_1$ $(\\mathrm{AU})$\",fontsize=18)\n",
    "plt.tight_layout()"
   ]
  },
  {
   "cell_type": "markdown",
   "metadata": {},
   "source": [
    "The figures above show the eccentricity of the planet's orbit around its star (top panel), the inclination of the planet's orbit relative to the binary star orbit (middle panel), and the semi-major axis of the planet (bottom panel). The eccentricity and inclination of the planet oscillate due to the torque exerted on the planet by the distant star. The semi-major axis undergoes a small change at each eccentricity maximum due to the tides, but we did not integrate the ODEs for long enough for tides to have a significant impact on the semi-major axis. Now let's try running the ODE solver for 500 million years (this will take a few minutes to run):"
   ]
  },
  {
   "cell_type": "code",
   "execution_count": null,
   "metadata": {
    "tags": []
   },
   "outputs": [],
   "source": [
    "tend = 5e8\n",
    "Npoints = 100000\n",
    "t = np.linspace(0, tend, Npoints)\n",
    "\n",
    "# Integrate the ODEs\n",
    "t, sol, flag, sflag, qflag = io.integrate_triple(\n",
    "    parameters,\n",
    "    t,\n",
    "    evolve_spin2_axis=False,\n",
    "    diss_tide2=True,\n",
    "    mbraking1=True,\n",
    "    min_peri=min_peri,\n",
    "    min_a=min_a,\n",
    "    min_e=min_e,\n",
    ")\n",
    "\n",
    "# Process the output of the ODEs\n",
    "df = io.process_output(t, sol, parameters, evolve_spin2_axis=False)"
   ]
  },
  {
   "cell_type": "code",
   "execution_count": null,
   "metadata": {
    "tags": []
   },
   "outputs": [],
   "source": [
    "scale = 1e6\n",
    "plt.figure(1,figsize=(5,7))\n",
    "plt.subplot(3,1,1)\n",
    "plt.semilogy(df.t/scale,1 - df.e1)\n",
    "plt.ylabel(r\"$e_1$\",fontsize=18)\n",
    "\n",
    "plt.subplot(3,1,2)\n",
    "plt.plot(df.t/scale,df.Imut*rad2deg)\n",
    "plt.ylabel(r\"$I_{\\mathrm{mut}}$ $(\\mathrm{deg})$\",fontsize=18)\n",
    "\n",
    "plt.subplot(3,1,3)\n",
    "plt.plot(df.t/scale,df.a1)\n",
    "plt.xlabel(r\"$\\mathrm{Time}$ $(\\mathrm{Myr})$\",fontsize=18)\n",
    "plt.ylabel(r\"$a_1$ $(\\mathrm{AU})$\",fontsize=18)\n",
    "plt.tight_layout()"
   ]
  },
  {
   "cell_type": "markdown",
   "metadata": {},
   "source": [
    "Over this longer timescale, the eccentricity and inclination of the planetary orbit underwent many oscillations, and the planet gradually migrated inward due to tidal dissipation, eventually becoming a hot Jupiter (with semi-major axis < 0.1 AU). The outcome `HJ` (`1`) here means that the planet migrated inward, resulting in a semi-major axis < `min_a` (which we set to 0.1 AU in this example). \n",
    "\n",
    "The dataframe returned by `process_output` contains many other quantities of interest. Below we plot the stellar obliquity (angle between the spin axis of the star and the orbital axis of the planet), which evolves chaotically before finally settling to a retrograde (> 90 degrees) value. Indeed, many hot Jupiters are observed to be on severely misaligned orbits relative to their stars, which yields clues about their formation histories."
   ]
  },
  {
   "cell_type": "code",
   "execution_count": null,
   "metadata": {},
   "outputs": [],
   "source": [
    "plt.figure(2)\n",
    "plt.plot(df.t/scale,df.theta1*rad2deg)\n",
    "plt.xlabel(r\"$\\mathrm{Time}$ $(\\mathrm{Myr})$\",fontsize=18)\n",
    "plt.ylabel(r\"$\\mathrm{Obliquity}$ $(\\mathrm{deg})$\",fontsize=18)"
   ]
  },
  {
   "cell_type": "markdown",
   "metadata": {},
   "source": [
    "The `run_in_batch` directory provides scripts for running a large number of simulations in parallel to efficiently explore the parameter space."
   ]
  }
 ],
 "metadata": {
  "kernelspec": {
   "display_name": "Python 3",
   "language": "python",
   "name": "python3"
  },
  "language_info": {
   "codemirror_mode": {
    "name": "ipython",
    "version": 3
   },
   "file_extension": ".py",
   "mimetype": "text/x-python",
   "name": "python",
   "nbconvert_exporter": "python",
   "pygments_lexer": "ipython3",
   "version": "3.7.4"
  }
 },
 "nbformat": 4,
 "nbformat_minor": 4
}
